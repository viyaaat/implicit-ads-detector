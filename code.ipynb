{
  "cells": [
    {
      "cell_type": "markdown",
      "metadata": {
        "id": "TCeXSgofYA5M"
      },
      "source": [
        "K is fixed as 3 for all cases. Need to generalize"
      ]
    },
    {
      "cell_type": "code",
      "execution_count": 1,
      "metadata": {
        "id": "2yPfFW1BLaUU"
      },
      "outputs": [],
      "source": [
        "# !rm -rf downloads"
      ]
    },
    {
      "cell_type": "code",
      "execution_count": 2,
      "metadata": {
        "id": "D_Eq5HzMLmv0"
      },
      "outputs": [],
      "source": [
        "# !rm dataset.xlsx"
      ]
    },
    {
      "cell_type": "markdown",
      "metadata": {
        "id": "ShGp02zFZIW7"
      },
      "source": [
        "DATA PREPARATION"
      ]
    },
    {
      "cell_type": "code",
      "execution_count": 3,
      "metadata": {
        "colab": {
          "base_uri": "https://localhost:8080/"
        },
        "id": "q2-aT5dwnEdf",
        "outputId": "ad130ecf-4a5f-4521-a8b9-864c82804e0c"
      },
      "outputs": [
        {
          "name": "stdout",
          "output_type": "stream",
          "text": [
            "Requirement already satisfied: openpyxl in c:\\users\\the ak\\appdata\\local\\programs\\python\\python39\\lib\\site-packages (3.1.1)\n",
            "Requirement already satisfied: et-xmlfile in c:\\users\\the ak\\appdata\\local\\programs\\python\\python39\\lib\\site-packages (from openpyxl) (1.1.0)\n",
            "Note: you may need to restart the kernel to use updated packages.\n"
          ]
        },
        {
          "name": "stderr",
          "output_type": "stream",
          "text": [
            "\n",
            "[notice] A new release of pip is available: 23.0.1 -> 23.1\n",
            "[notice] To update, run: python.exe -m pip install --upgrade pip\n"
          ]
        }
      ],
      "source": [
        "pip install openpyxl"
      ]
    },
    {
      "cell_type": "code",
      "execution_count": 4,
      "metadata": {
        "colab": {
          "base_uri": "https://localhost:8080/"
        },
        "id": "56n1-zDLWoU8",
        "outputId": "4b2c9c7d-ec53-4fc8-84c7-fc2cd72d1667"
      },
      "outputs": [
        {
          "name": "stdout",
          "output_type": "stream",
          "text": [
            "Requirement already satisfied: matplotlib in c:\\users\\the ak\\appdata\\local\\programs\\python\\python39\\lib\\site-packages (3.3.4)\n",
            "Requirement already satisfied: pillow>=6.2.0 in c:\\users\\the ak\\appdata\\local\\programs\\python\\python39\\lib\\site-packages (from matplotlib) (8.1.0)\n",
            "Requirement already satisfied: kiwisolver>=1.0.1 in c:\\users\\the ak\\appdata\\local\\programs\\python\\python39\\lib\\site-packages (from matplotlib) (1.3.1)\n",
            "Requirement already satisfied: numpy>=1.15 in c:\\users\\the ak\\appdata\\local\\programs\\python\\python39\\lib\\site-packages (from matplotlib) (1.20.1)\n",
            "Requirement already satisfied: cycler>=0.10 in c:\\users\\the ak\\appdata\\local\\programs\\python\\python39\\lib\\site-packages (from matplotlib) (0.10.0)\n",
            "Requirement already satisfied: python-dateutil>=2.1 in c:\\users\\the ak\\appdata\\local\\programs\\python\\python39\\lib\\site-packages (from matplotlib) (2.8.1)\n",
            "Requirement already satisfied: pyparsing!=2.0.4,!=2.1.2,!=2.1.6,>=2.0.3 in c:\\users\\the ak\\appdata\\local\\programs\\python\\python39\\lib\\site-packages (from matplotlib) (2.4.7)\n",
            "Requirement already satisfied: six in c:\\users\\the ak\\appdata\\roaming\\python\\python39\\site-packages (from cycler>=0.10->matplotlib) (1.15.0)\n",
            "Note: you may need to restart the kernel to use updated packages.\n"
          ]
        },
        {
          "name": "stderr",
          "output_type": "stream",
          "text": [
            "\n",
            "[notice] A new release of pip is available: 23.0.1 -> 23.1\n",
            "[notice] To update, run: python.exe -m pip install --upgrade pip\n"
          ]
        }
      ],
      "source": [
        "pip install matplotlib"
      ]
    },
    {
      "cell_type": "code",
      "execution_count": 5,
      "metadata": {
        "colab": {
          "base_uri": "https://localhost:8080/"
        },
        "id": "uf3SbVyAWoe5",
        "outputId": "87ec5265-2d62-4a09-bfaf-18ddf82bd079"
      },
      "outputs": [
        {
          "name": "stdout",
          "output_type": "stream",
          "text": [
            "Requirement already satisfied: pytube in c:\\users\\the ak\\appdata\\local\\programs\\python\\python39\\lib\\site-packages (12.1.2)\n",
            "Note: you may need to restart the kernel to use updated packages.\n"
          ]
        },
        {
          "name": "stderr",
          "output_type": "stream",
          "text": [
            "\n",
            "[notice] A new release of pip is available: 23.0.1 -> 23.1\n",
            "[notice] To update, run: python.exe -m pip install --upgrade pip\n"
          ]
        }
      ],
      "source": [
        "pip install pytube"
      ]
    },
    {
      "cell_type": "code",
      "execution_count": 6,
      "metadata": {},
      "outputs": [],
      "source": [
        "#pip install opencv-python"
      ]
    },
    {
      "cell_type": "code",
      "execution_count": 7,
      "metadata": {},
      "outputs": [],
      "source": [
        "#pip install tensorflow"
      ]
    },
    {
      "cell_type": "code",
      "execution_count": 8,
      "metadata": {
        "id": "qeTDo2tjWohy"
      },
      "outputs": [],
      "source": [
        "import pandas as pd\n",
        "import xml.etree.ElementTree as ET\n",
        "import cv2\n",
        "import math\n",
        "from random import sample\n",
        "import numpy as np\n",
        "import matplotlib.pyplot as plt\n",
        "from pytube import YouTube\n",
        "\n",
        "from sklearn.model_selection import train_test_split\n",
        "\n",
        "import os"
      ]
    },
    {
      "cell_type": "code",
      "execution_count": 10,
      "metadata": {},
      "outputs": [
        {
          "ename": "ModuleNotFoundError",
          "evalue": "No module named 'tensorflow'",
          "output_type": "error",
          "traceback": [
            "\u001b[1;31m---------------------------------------------------------------------------\u001b[0m",
            "\u001b[1;31mModuleNotFoundError\u001b[0m                       Traceback (most recent call last)",
            "\u001b[1;32mc:\\Users\\the AK\\Desktop\\fyp\\final\\code.ipynb Cell 11\u001b[0m in \u001b[0;36m<module>\u001b[1;34m\u001b[0m\n\u001b[1;32m----> <a href='vscode-notebook-cell:/c%3A/Users/the%20AK/Desktop/fyp/final/code.ipynb#X13sZmlsZQ%3D%3D?line=0'>1</a>\u001b[0m \u001b[39mimport\u001b[39;00m \u001b[39mtensorflow\u001b[39;00m \u001b[39mas\u001b[39;00m \u001b[39mtf\u001b[39;00m\n",
            "\u001b[1;31mModuleNotFoundError\u001b[0m: No module named 'tensorflow'"
          ]
        }
      ],
      "source": [
        "import tensorflow as tf"
      ]
    },
    {
      "cell_type": "code",
      "execution_count": null,
      "metadata": {},
      "outputs": [],
      "source": [
        "def retDownload(url,fileName):\n",
        "    try:\n",
        "        yt = YouTube(url)\n",
        "        stream = yt.streams.filter(progressive = True, file_extension = \"mp4\" , res=\"360p\").first()\n",
        "        stream.download(filename = fileName)\n",
        "        return True\n",
        "    except:\n",
        "        return False"
      ]
    },
    {
      "cell_type": "code",
      "execution_count": null,
      "metadata": {
        "id": "mfwcufkaWoki"
      },
      "outputs": [],
      "source": [
        "def downloadVideo(url, fileName):\n",
        "      for i in (0,4):\n",
        "        if(retDownload(url,fileName)):\n",
        "          return True\n",
        "        else:\n",
        "          return False"
      ]
    },
    {
      "cell_type": "code",
      "execution_count": null,
      "metadata": {},
      "outputs": [],
      "source": [
        "def retCaption(link,code):\n",
        "    src = YouTube(link)\n",
        "    try:\n",
        "      captions=src.captions\n",
        "      enCaption = captions[code]\n",
        "      root=ET.fromstring(enCaption.xml_captions)\n",
        "      textElement=root.find('body').findall('p')\n",
        "      return (textElement, True)\n",
        "    except:\n",
        "      return (None, False)"
      ]
    },
    {
      "cell_type": "code",
      "execution_count": null,
      "metadata": {
        "id": "kNmhJQQcWonZ"
      },
      "outputs": [],
      "source": [
        "def getCaptions(link):\n",
        "    for i in (0,10):\n",
        "      captions,status=retCaption(link,'en')\n",
        "      if(status):\n",
        "        return (captions,True)\n",
        "    for i in (0,10):\n",
        "      captions,status=retCaption(link,'en-IN')\n",
        "      if(status):\n",
        "        return (captions,True)\n",
        "    \n",
        "    return (None,False)"
      ]
    },
    {
      "cell_type": "code",
      "execution_count": null,
      "metadata": {
        "id": "xtECXZ4dWoqI"
      },
      "outputs": [],
      "source": [
        "# times is in milli seconds\n",
        "def extract_frames(video_path, start_time, end_time, k):\n",
        "    cap = cv2.VideoCapture(video_path)\n",
        "    fps = int(cap.get(cv2.CAP_PROP_FPS))\n",
        "\n",
        "    start_frame = int(start_time / 1000 * fps)\n",
        "    end_frame = int(end_time / 1000 * fps)\n",
        "\n",
        "    frame_interval = int((end_frame - start_frame) / (k - 1))\n",
        "\n",
        "    selected_frames = []\n",
        "\n",
        "    for i in range(k):\n",
        "        frame_index = start_frame + i * frame_interval\n",
        "        cap.set(cv2.CAP_PROP_POS_FRAMES, frame_index)\n",
        "        ret, frame = cap.read()\n",
        "\n",
        "        if not ret:\n",
        "          print(\"Error occured at getting frames\")\n",
        "          break\n",
        "        \n",
        "        # resized_frame = cv2.resize(frame, (IMAGE_HEIGHT, IMAGE_WIDTH)) - restricting for 64, 64\n",
        "\n",
        "        resizedFrame = cv2.resize(frame, (64, 64))\n",
        "\n",
        "        # normalized frames. If you need to show image, don't normalize it\n",
        "        normalizedFrame = resizedFrame / 255\n",
        "\n",
        "        selected_frames.append(normalizedFrame)\n",
        "        # frame_time = frame_index / fps\n",
        "\n",
        "    cap.release()\n",
        "    return selected_frames\n"
      ]
    },
    {
      "cell_type": "code",
      "execution_count": null,
      "metadata": {
        "id": "ZQYuyizmWosq"
      },
      "outputs": [],
      "source": [
        "def showImage(sentence, images, label):\n",
        "  # Commented. Use this if you need to visualize the considered frames\n",
        "  for i in range(20):\n",
        "    plt.subplot(1, 20, i+1)\n",
        "    plt.imshow(images[i][:,:,::-1])\n",
        "    plt.axis('off')\n",
        "  \n",
        "  plt.title(\"Sentence: \" + sentence + \" Label: \" + str(label))\n",
        "  plt.show()"
      ]
    },
    {
      "cell_type": "code",
      "execution_count": null,
      "metadata": {
        "id": "imTOqAAvXw5-"
      },
      "outputs": [],
      "source": [
        "def convertToMilliSeconds(number):\n",
        "  decPart, integerPart = math.modf(number)\n",
        "  seconds = int(integerPart)*60 + int(decPart*100)\n",
        "  milliSeconds = seconds*1000\n",
        "  return milliSeconds"
      ]
    },
    {
      "cell_type": "code",
      "execution_count": null,
      "metadata": {},
      "outputs": [],
      "source": [
        "def processVideo(videoUrl,index,adStart,adEnd):\n",
        "    captions, statusC = getCaptions(videoUrl)\n",
        "    if(statusC):\n",
        "        statusD = downloadVideo(videoUrl, str(index) + \".mp4\")\n",
        "        if(statusD):\n",
        "            sentencesAll=[]\n",
        "            framesAll=[]\n",
        "            labelsAll=[]\n",
        "            for caption in captions:\n",
        "                startTime = int(caption.attrib['t'])\n",
        "                endTime = startTime + int(caption.attrib['d'])\n",
        "                sentence = caption.text\n",
        "                framesWithinTime = extract_frames(str(index) + \".mp4\", startTime, endTime, 20)\n",
        "                sentencesAll.append(sentence)\n",
        "                framesAll.append(framesWithinTime)\n",
        "                if startTime >= adStart and endTime <= adEnd:\n",
        "                    labelsAll.append(1)\n",
        "                else:\n",
        "                    labelsAll.append(0)\n",
        "            return (True,sentencesAll,framesAll,labelsAll)\n",
        "    return (False,[],[],0)"
      ]
    },
    {
      "cell_type": "code",
      "execution_count": null,
      "metadata": {},
      "outputs": [],
      "source": [
        "# Tvideo=\"https://youtu.be/jZxYZZ151To\"\n",
        "# adStart=convertToMilliSeconds(2.54)\n",
        "# adEnd=convertToMilliSeconds(5.2)\n",
        "# status,sentence,frames,label=processVideo(Tvideo,1,adStart,adEnd)\n"
      ]
    },
    {
      "cell_type": "code",
      "execution_count": null,
      "metadata": {},
      "outputs": [],
      "source": [
        "# for i in range(len(label)):\n",
        "#     if(label[i]):\n",
        "#        print(label[i])\n",
        "# len(label)"
      ]
    },
    {
      "cell_type": "code",
      "execution_count": null,
      "metadata": {},
      "outputs": [],
      "source": [
        "# len(sentence)"
      ]
    },
    {
      "cell_type": "code",
      "execution_count": null,
      "metadata": {
        "colab": {
          "background_save": true,
          "base_uri": "https://localhost:8080/"
        },
        "id": "bHjlyT2WXzmS",
        "outputId": "5740f9e0-0374-4f17-a619-fb998fb93285"
      },
      "outputs": [
        {
          "name": "stdout",
          "output_type": "stream",
          "text": [
            "1  files done    0\n",
            "2  files done    1\n",
            "3  files done    2\n",
            "4  files done    2\n",
            "5  files done    3\n",
            "6  files done    4\n",
            "7  files done    5\n",
            "8  files done    6\n",
            "9  files done    7\n",
            "10  files done    8\n",
            "11  files done    9\n",
            "12  files done    10\n",
            "13  files done    11\n",
            "14  files done    12\n",
            "15  files done    13\n",
            "16  files done    13\n",
            "17  files done    14\n",
            "18  files done    14\n",
            "19  files done    15\n",
            "20  files done    16\n",
            "21  files done    16\n",
            "22  files done    17\n",
            "23  files done    18\n",
            "24  files done    19\n",
            "25  files done    19\n",
            "26  files done    19\n",
            "27  files done    20\n",
            "28  files done    20\n",
            "29  files done    21\n",
            "30  files done    21\n",
            "31  files done    21\n",
            "32  files done    22\n",
            "33  files done    23\n",
            "34  files done    23\n",
            "35  files done    24\n",
            "36  files done    25\n",
            "37  files done    26\n",
            "38  files done    27\n",
            "39  files done    28\n",
            "40  files done    29\n",
            "41  files done    30\n",
            "42  files done    30\n",
            "43  files done    31\n",
            "44  files done    32\n",
            "45  files done    33\n",
            "46  files done    34\n",
            "47  files done    34\n",
            "48  files done    34\n",
            "49  files done    34\n",
            "50  files done    35\n",
            "51  files done    36\n",
            "52  files done    37\n",
            "53  files done    37\n",
            "54  files done    37\n",
            "55  files done    37\n",
            "56  files done    38\n",
            "57  files done    38\n",
            "58  files done    39\n",
            "59  files done    39\n",
            "60  files done    39\n",
            "61  files done    39\n",
            "62  files done    39\n",
            "63  files done    39\n",
            "64  files done    39\n",
            "65  files done    39\n",
            "66  files done    39\n",
            "67  files done    39\n",
            "68  files done    39\n",
            "69  files done    39\n",
            "70  files done    39\n",
            "71  files done    39\n",
            "72  files done    39\n",
            "73  files done    39\n",
            "74  files done    39\n",
            "75  files done    39\n",
            "76  files done    39\n",
            "77  files done    39\n",
            "78  files done    39\n",
            "79  files done    39\n",
            "80  files done    39\n",
            "81  files done    39\n",
            "82  files done    39\n",
            "83  files done    40\n",
            "84  files done    41\n",
            "85  files done    42\n",
            "86  files done    42\n",
            "87  files done    43\n",
            "88  files done    44\n",
            "89  files done    45\n",
            "90  files done    46\n",
            "91  files done    47\n",
            "92  files done    48\n",
            "93  files done    49\n",
            "Not ad data size:  9849  , Ad data size:  1148\n",
            "Success count:  50\n",
            "Fail count:  43\n",
            "Total videos:  93\n"
          ]
        },
        {
          "data": {
            "image/png": "[encoded data removed]",
            "text/plain": [
              "<Figure size 432x288 with 20 Axes>"
            ]
          },
          "metadata": {
            "needs_background": "light"
          },
          "output_type": "display_data"
        },
        {
          "data": {
            "image/png": "[encoded data removed]",
            "text/plain": [
              "<Figure size 432x288 with 20 Axes>"
            ]
          },
          "metadata": {
            "needs_background": "light"
          },
          "output_type": "display_data"
        },
        {
          "data": {
            "image/png": "[encoded data removed]",
            "text/plain": [
              "<Figure size 432x288 with 20 Axes>"
            ]
          },
          "metadata": {
            "needs_background": "light"
          },
          "output_type": "display_data"
        },
        {
          "data": {
            "image/png": "[encoded data removed]",
            "text/plain": [
              "<Figure size 432x288 with 20 Axes>"
            ]
          },
          "metadata": {
            "needs_background": "light"
          },
          "output_type": "display_data"
        },
        {
          "data": {
            "image/png": "[encoded data removed]",
            "text/plain": [
              "<Figure size 432x288 with 20 Axes>"
            ]
          },
          "metadata": {
            "needs_background": "light"
          },
          "output_type": "display_data"
        }
      ],
      "source": [
        "#Dataset in list format creation part\n",
        "sentences = []\n",
        "frames = []\n",
        "labels = []\n",
        "\n",
        "\n",
        "sentences0 = []\n",
        "frames0 = []\n",
        "labels0 = []\n",
        "\n",
        "sentences1 = []\n",
        "frames1 = []\n",
        "labels1 = []\n",
        "\n",
        "failed=[]\n",
        "\n",
        "df = pd.read_excel('dataset.xlsx', sheet_name='final')\n",
        "failCount = 0\n",
        "successCount = 0\n",
        "\n",
        "\n",
        "for index, row in df.iterrows():\n",
        "    videoUrl = row['Video Links']\n",
        "    print(str(index + 1), \" files done   \",successCount)\n",
        "    adStart=convertToMilliSeconds(row['Start Time'])\n",
        "    adEnd=convertToMilliSeconds(row['End Time'])\n",
        "    status,sentencesAll,framesAll,labelsAll=processVideo(videoUrl,index,adStart,adEnd)\n",
        "    if(status):\n",
        "      successCount+=1\n",
        "      for i in range(len(sentencesAll)):\n",
        "        if labelsAll[i]:\n",
        "          sentences1.append(sentencesAll[i])\n",
        "          frames1.append(framesAll[i])\n",
        "          labels1.append(1)\n",
        "        else:\n",
        "          sentences0.append(sentencesAll[i])\n",
        "          frames0.append(framesAll[i])\n",
        "          labels0.append(0)\n",
        "      os.remove(str(index) + \".mp4\")\n",
        "    else:\n",
        "      failed.append(index)\n",
        "      failCount+=1\n",
        "          \n",
        "\n",
        "# check all three has same length for safety\n",
        "print(\"Not ad data size: \", len(sentences0), \" , Ad data size: \", len(sentences1))\n",
        "\n",
        "# More ads\n",
        "if(len(sentences0) <= len(sentences1)):\n",
        "  sentences = sentences + sentences0 + sentences1[:len(sentences0)]\n",
        "  frames = frames + frames0 + frames1[:len(frames0)]\n",
        "  labels = labels + labels0 + labels1[:len(labels0)]\n",
        "else:\n",
        "  sentences = sentences + sentences1 + sentences0[:(len(sentences1))]\n",
        "  frames = frames + frames1 + frames0[:(len(frames1))]\n",
        "  labels = labels + labels1 + labels0[:(len(labels1))]\n",
        "\n",
        "  \n",
        "print(\"Success count: \", successCount)\n",
        "print(\"Fail count: \", failCount)\n",
        "print(\"Total videos: \", successCount + failCount)\n",
        "\n",
        "sampleData = sample( range(len(sentences)) , 5)\n",
        "\n",
        "for i in sampleData:\n",
        "  showImage(sentences[i], frames[i], labels[i])\n"
      ]
    },
    {
      "cell_type": "code",
      "execution_count": null,
      "metadata": {
        "id": "TYE2jg04YcE8"
      },
      "outputs": [],
      "source": [
        "# All are in list\n",
        "sentences_train, sentences_test, frames_train, frames_test, labels_train, labels_test = train_test_split(sentences, frames, labels, test_size = 0.25, shuffle = True, random_state = 17)"
      ]
    },
    {
      "cell_type": "code",
      "execution_count": null,
      "metadata": {
        "id": "PAJoZsUxYfik"
      },
      "outputs": [],
      "source": [
        "# convert frames to tensor\n",
        "framesTrain = tf.convert_to_tensor(frames_train, dtype=tf.float32)\n",
        "framesTest = tf.convert_to_tensor(frames_test, dtype=tf.float32)\n",
        "\n",
        "labelsTrain = tf.constant(labels_train, dtype=tf.int32)\n",
        "labelsTest = tf.constant(labels_test, dtype=tf.int32)\n",
        "\n"
      ]
    },
    {
      "cell_type": "markdown",
      "metadata": {
        "id": "0t9su0d9ZdIu"
      },
      "source": [
        "FRAMES MODEL PART"
      ]
    },
    {
      "cell_type": "code",
      "execution_count": null,
      "metadata": {
        "id": "ZRt0L3q6ZiXz"
      },
      "outputs": [],
      "source": [
        "from tensorflow.keras.layers import *\n",
        "from tensorflow.keras.callbacks import EarlyStopping\n",
        "from tensorflow.keras.utils import plot_model"
      ]
    },
    {
      "cell_type": "code",
      "execution_count": null,
      "metadata": {
        "id": "4kcyP53-ZThi"
      },
      "outputs": [],
      "source": [
        "\n",
        "frameInput = tf.keras.Input(shape=(20, 64, 64, 3), name = 'framesInput')\n",
        "conv_2d_layer = tf.keras.layers.Conv2D(16, (3, 3), padding='same')\n",
        "layer1 = tf.keras.layers.TimeDistributed(conv_2d_layer)(frameInput)\n",
        "max_pool_2d = tf.keras.layers.MaxPooling2D(pool_size=(4, 4))\n",
        "layer2 = tf.keras.layers.TimeDistributed(max_pool_2d)(layer1)\n",
        "layer3 = tf.keras.layers.Dropout(0.25)(layer2)\n",
        "\n",
        "conv_2d_layer = tf.keras.layers.Conv2D(32, (3, 3), padding = 'same')\n",
        "layer4 = tf.keras.layers.TimeDistributed(conv_2d_layer)(layer3)\n",
        "max_pool_2d = tf.keras.layers.MaxPooling2D(pool_size=(4, 4))\n",
        "layer5 = tf.keras.layers.TimeDistributed(max_pool_2d)(layer4)\n",
        "layer6 = tf.keras.layers.Dropout(0.25)(layer5)\n",
        "\n",
        "conv_2d_layer = tf.keras.layers.Conv2D(64, (3, 3), padding = 'same')\n",
        "layer7 = tf.keras.layers.TimeDistributed(conv_2d_layer)(layer6)\n",
        "max_pool_2d = tf.keras.layers.MaxPooling2D(pool_size=(2, 2))\n",
        "layer8 = tf.keras.layers.TimeDistributed(max_pool_2d)(layer7)\n",
        "layer9 = tf.keras.layers.Dropout(0.25)(layer8)\n",
        "\n",
        "conv_2d_layer = tf.keras.layers.Conv2D(64, (3, 3), padding = 'same')\n",
        "layer10 = tf.keras.layers.TimeDistributed(conv_2d_layer)(layer9)\n",
        "max_pool_2d = tf.keras.layers.MaxPooling2D(pool_size=(2, 2))\n",
        "layer11 = tf.keras.layers.TimeDistributed(max_pool_2d)(layer10)\n",
        "\n",
        "flatten = tf.keras.layers.Flatten()\n",
        "layer12 = tf.keras.layers.TimeDistributed(flatten)(layer11)\n",
        "\n",
        "lstm = tf.keras.layers.LSTM(32)\n",
        "layer13 = lstm(layer12)\n",
        "frameLayer = tf.keras.layers.Dense(20, activation='softmax')(layer13)"
      ]
    },
    {
      "cell_type": "code",
      "execution_count": null,
      "metadata": {
        "id": "ybn3bkK6ZnKD"
      },
      "outputs": [],
      "source": []
    },
    {
      "cell_type": "code",
      "execution_count": null,
      "metadata": {
        "id": "bCCNprcoZ_sb"
      },
      "outputs": [],
      "source": [
        "# LRCN_model = create_LRCN_model()"
      ]
    },
    {
      "cell_type": "code",
      "execution_count": null,
      "metadata": {
        "id": "BMKGCoiNaEpT"
      },
      "outputs": [],
      "source": [
        "# Plot the structure of the contructed LRCN model.\n",
        "# plot_model(LRCN_model, to_file = 'LRCN_model_structure_plot.png', show_shapes = True, show_layer_names = True)"
      ]
    },
    {
      "cell_type": "markdown",
      "metadata": {
        "id": "BBcnoKTNZgDk"
      },
      "source": [
        "SENTENCES MODEL PART"
      ]
    },
    {
      "cell_type": "code",
      "execution_count": null,
      "metadata": {
        "id": "oieb3x1Xalwz"
      },
      "outputs": [
        {
          "name": "stdout",
          "output_type": "stream",
          "text": [
            "Defaulting to user installation because normal site-packages is not writeable\n",
            "Requirement already satisfied: transformers in c:\\users\\106119049\\appdata\\roaming\\python\\python39\\site-packages (4.28.1)\n",
            "Requirement already satisfied: filelock in c:\\programdata\\anaconda3\\lib\\site-packages (from transformers) (3.6.0)\n",
            "Requirement already satisfied: numpy>=1.17 in c:\\users\\106119049\\appdata\\roaming\\python\\python39\\site-packages (from transformers) (1.22.4)\n",
            "Requirement already satisfied: regex!=2019.12.17 in c:\\programdata\\anaconda3\\lib\\site-packages (from transformers) (2022.3.15)\n",
            "Requirement already satisfied: tokenizers!=0.11.3,<0.14,>=0.11.1 in c:\\users\\106119049\\appdata\\roaming\\python\\python39\\site-packages (from transformers) (0.13.3)\n",
            "Requirement already satisfied: tqdm>=4.27 in c:\\programdata\\anaconda3\\lib\\site-packages (from transformers) (4.64.0)\n",
            "Requirement already satisfied: huggingface-hub<1.0,>=0.11.0 in c:\\users\\106119049\\appdata\\roaming\\python\\python39\\site-packages (from transformers) (0.13.4)\n",
            "Requirement already satisfied: requests in c:\\programdata\\anaconda3\\lib\\site-packages (from transformers) (2.27.1)\n",
            "Requirement already satisfied: pyyaml>=5.1 in c:\\programdata\\anaconda3\\lib\\site-packages (from transformers) (6.0)\n",
            "Requirement already satisfied: packaging>=20.0 in c:\\programdata\\anaconda3\\lib\\site-packages (from transformers) (21.3)\n",
            "Requirement already satisfied: typing-extensions>=3.7.4.3 in c:\\programdata\\anaconda3\\lib\\site-packages (from huggingface-hub<1.0,>=0.11.0->transformers) (4.1.1)\n",
            "Requirement already satisfied: pyparsing!=3.0.5,>=2.0.2 in c:\\programdata\\anaconda3\\lib\\site-packages (from packaging>=20.0->transformers) (3.0.4)\n",
            "Requirement already satisfied: colorama in c:\\programdata\\anaconda3\\lib\\site-packages (from tqdm>=4.27->transformers) (0.4.4)\n",
            "Requirement already satisfied: idna<4,>=2.5 in c:\\programdata\\anaconda3\\lib\\site-packages (from requests->transformers) (3.3)\n",
            "Requirement already satisfied: certifi>=2017.4.17 in c:\\programdata\\anaconda3\\lib\\site-packages (from requests->transformers) (2021.10.8)\n",
            "Requirement already satisfied: urllib3<1.27,>=1.21.1 in c:\\programdata\\anaconda3\\lib\\site-packages (from requests->transformers) (1.26.9)\n",
            "Requirement already satisfied: charset-normalizer~=2.0.0 in c:\\programdata\\anaconda3\\lib\\site-packages (from requests->transformers) (2.0.4)\n",
            "Note: you may need to restart the kernel to use updated packages.\n"
          ]
        }
      ],
      "source": [
        "pip install transformers"
      ]
    },
    {
      "cell_type": "code",
      "execution_count": null,
      "metadata": {
        "id": "AYi6uYrDazgT"
      },
      "outputs": [],
      "source": [
        "from transformers import GPT2Tokenizer, TFGPT2Model\n",
        "from statistics import mean\n"
      ]
    },
    {
      "cell_type": "code",
      "execution_count": null,
      "metadata": {
        "id": "JSec91bXY7AO"
      },
      "outputs": [],
      "source": [
        "import re\n",
        "\n",
        "def dataCleaning(text):\n",
        "  # remove mentions\n",
        "  \n",
        "  text = re.sub(\"@\\S+\", \" \", text)\n",
        "\n",
        "  # remove hashtags\n",
        "  text = re.sub(\"#\\S+\", \" \", text)\n",
        "\n",
        "  # remove urls\n",
        "  text = re.sub(\"https*\\S+\", \" \", text)\n",
        "\n",
        "  # remove newlines and tabs\n",
        "  text = text.replace('\\n', ' ')\n",
        "  text = text.replace('\\t', ' ')\n",
        "\n",
        "  # remove unicode characters\n",
        "  text = text.encode('ascii', 'ignore').decode()\n",
        "\n",
        "  # remove overspaces\n",
        "  text = re.sub('\\s{2,}', \" \", text)\n",
        "\n",
        "  return text\n",
        "\n",
        "sentences_train = [dataCleaning(sentence) for sentence in sentences_train]\n",
        "sentences_test = [dataCleaning(sentence) for sentence in sentences_test]\n",
        "sentences = [dataCleaning(sentence) for sentence in sentences]\n"
      ]
    },
    {
      "cell_type": "code",
      "execution_count": null,
      "metadata": {
        "id": "6aR466QoagWD"
      },
      "outputs": [
        {
          "data": {
            "text/plain": [
              "11"
            ]
          },
          "execution_count": 31,
          "metadata": {},
          "output_type": "execute_result"
        }
      ],
      "source": [
        "MAX_LENGTH = math.ceil(mean(list(map(lambda x: len(str(x).split()), sentences))))+2\n",
        "MAX_LENGTH"
      ]
    },
    {
      "cell_type": "code",
      "execution_count": null,
      "metadata": {
        "id": "mmVLoQMFa9Ar"
      },
      "outputs": [
        {
          "name": "stderr",
          "output_type": "stream",
          "text": [
            "Special tokens have been added in the vocabulary, make sure the associated word embeddings are fine-tuned or trained.\n"
          ]
        }
      ],
      "source": [
        "PAD_TOKEN = \"<|pad|>\"\n",
        "EOS_TOKEN = \"<|endoftext|>\"\n",
        "\n",
        "# this will download and initialize the pre trained tokenizer\n",
        "tokenizer = GPT2Tokenizer.from_pretrained(\"gpt2\",\n",
        "    pad_token=PAD_TOKEN,\n",
        "    eos_token=EOS_TOKEN,\n",
        "    max_length=MAX_LENGTH,\n",
        "    is_split_into_words=True)"
      ]
    },
    {
      "cell_type": "code",
      "execution_count": null,
      "metadata": {
        "id": "Ysx74sFYbDx7"
      },
      "outputs": [
        {
          "name": "stdout",
          "output_type": "stream",
          "text": [
            "But how did they get the push in US?<|endoftext|>\n"
          ]
        }
      ],
      "source": [
        "sentences_train = [sentence + EOS_TOKEN for sentence in sentences_train]\n",
        "sentences_test = [sentence + EOS_TOKEN for sentence in sentences_test]\n",
        "\n",
        "print(sentences_train[0])"
      ]
    },
    {
      "cell_type": "code",
      "execution_count": null,
      "metadata": {
        "id": "8e3U69NXbEkU"
      },
      "outputs": [
        {
          "name": "stderr",
          "output_type": "stream",
          "text": [
            "C:\\Users\\106119049\\AppData\\Roaming\\Python\\Python39\\site-packages\\transformers\\tokenization_utils_base.py:2354: FutureWarning: The `pad_to_max_length` argument is deprecated and will be removed in a future version, use `padding=True` or `padding='longest'` to pad to the longest sequence in the batch, or use `padding='max_length'` to pad to a max length. In this case, you can give a specific length with `max_length` (e.g. `max_length=45`) or leave max_length to None to pad to the maximal input size of the model (e.g. 512 for Bert).\n",
            "  warnings.warn(\n"
          ]
        }
      ],
      "source": [
        "sentence_train_ = [tokenizer(str(x), return_tensors='tf', max_length=MAX_LENGTH, truncation=True, pad_to_max_length=True, add_special_tokens=True)['input_ids'] for x in sentences_train]\n",
        "sentence_test_ = [tokenizer(str(x), return_tensors='tf', max_length=MAX_LENGTH, truncation=True, pad_to_max_length=True, add_special_tokens=True)['input_ids'] for x in sentences_test]\n",
        "\n",
        "\n",
        "sentence_train_in = tf.squeeze(tf.convert_to_tensor(sentence_train_), axis=1)\n",
        "sentence_test_in = tf.squeeze(tf.convert_to_tensor(sentence_test_), axis=1)"
      ]
    },
    {
      "cell_type": "code",
      "execution_count": null,
      "metadata": {
        "id": "XpSGJy7Iceab"
      },
      "outputs": [],
      "source": [
        "sentence_train_mask_ = [tokenizer(str(x), return_tensors='tf', max_length=MAX_LENGTH, truncation=True, pad_to_max_length=True, add_special_tokens=True)[\"attention_mask\"] for x in sentences_train]\n",
        "sentence_test_mask_ = [tokenizer(str(x), return_tensors='tf', max_length=MAX_LENGTH, truncation=True, pad_to_max_length=True, add_special_tokens=True)[\"attention_mask\"] for x in sentences_test]\n",
        "\n",
        "sentence_train_mask = tf.squeeze(tf.convert_to_tensor(sentence_train_mask_), axis=1)\n",
        "sentence_test_mask = tf.squeeze(tf.convert_to_tensor(sentence_test_mask_), axis=1)"
      ]
    },
    {
      "cell_type": "code",
      "execution_count": null,
      "metadata": {
        "id": "ug5Shf-KdT5d"
      },
      "outputs": [
        {
          "name": "stderr",
          "output_type": "stream",
          "text": [
            "All model checkpoint layers were used when initializing TFGPT2Model.\n",
            "\n",
            "All the layers of TFGPT2Model were initialized from the model checkpoint at gpt2.\n",
            "If your task is similar to the task the model of the checkpoint was trained on, you can already use TFGPT2Model for predictions without further training.\n"
          ]
        }
      ],
      "source": [
        "model = TFGPT2Model.from_pretrained(\"gpt2\", use_cache=False,\n",
        "        pad_token_id=tokenizer.pad_token_id,\n",
        "        eos_token_id=tokenizer.eos_token_id)\n",
        "model.training = True"
      ]
    },
    {
      "cell_type": "code",
      "execution_count": null,
      "metadata": {
        "id": "3jnC63QxdXUD"
      },
      "outputs": [
        {
          "data": {
            "text/plain": [
              "<transformers.modeling_tf_utils.TFSharedEmbeddings at 0x2a18cf0d490>"
            ]
          },
          "execution_count": 37,
          "metadata": {},
          "output_type": "execute_result"
        }
      ],
      "source": [
        "model.resize_token_embeddings(len(tokenizer))"
      ]
    },
    {
      "cell_type": "code",
      "execution_count": null,
      "metadata": {
        "id": "fEQvFMhZdcCT"
      },
      "outputs": [],
      "source": [
        "for layer in model.layers:\n",
        "    layer.trainable = False"
      ]
    },
    {
      "cell_type": "code",
      "execution_count": null,
      "metadata": {
        "id": "JWkt0H74dc6b"
      },
      "outputs": [
        {
          "name": "stdout",
          "output_type": "stream",
          "text": [
            "Model: \"tfgpt2_model\"\n",
            "_________________________________________________________________\n",
            " Layer (type)                Output Shape              Param #   \n",
            "=================================================================\n",
            " transformer (TFGPT2MainLaye  multiple                 124440576 \n",
            " r)                                                              \n",
            "                                                                 \n",
            "=================================================================\n",
            "Total params: 163,038,720\n",
            "Trainable params: 38,598,144\n",
            "Non-trainable params: 124,440,576\n",
            "_________________________________________________________________\n"
          ]
        }
      ],
      "source": [
        "model.summary()"
      ]
    },
    {
      "cell_type": "code",
      "execution_count": null,
      "metadata": {
        "id": "nl1kSdwTde4k"
      },
      "outputs": [],
      "source": [
        "input = tf.keras.layers.Input(shape=(None,), dtype='int32', name = 'sentenceInput')\n",
        "mask = tf.keras.layers.Input(shape=(None,), dtype='int32', name = 'maskInput')\n",
        "x = model(input, attention_mask=mask)\n",
        "#x = x.last_hidden_state[:, -1]\n",
        "x = tf.reduce_mean(x.last_hidden_state, axis=1)\n",
        "x = tf.keras.layers.Dense(16, activation='relu')(x)\n",
        "x = tf.keras.layers.Dropout(0.3)(x)\n",
        "\n",
        "# Obtaining sentence based informations\n",
        "sentenceLayer = tf.keras.layers.Dense(20, activation='softmax')(x)"
      ]
    },
    {
      "cell_type": "code",
      "execution_count": null,
      "metadata": {
        "id": "8wRD1R5ieY0s"
      },
      "outputs": [],
      "source": [
        "# clf = tf.keras.Model([input, mask], output)"
      ]
    },
    {
      "cell_type": "code",
      "execution_count": null,
      "metadata": {
        "id": "9ThTzTTrecF-"
      },
      "outputs": [],
      "source": [
        "# clf.summary()"
      ]
    },
    {
      "cell_type": "markdown",
      "metadata": {
        "id": "Z9UvJpS_eoIU"
      },
      "source": [
        "MODEL COMBINING"
      ]
    },
    {
      "cell_type": "code",
      "execution_count": null,
      "metadata": {
        "id": "NoXrQFQUec6b"
      },
      "outputs": [],
      "source": [
        "concat = tf.keras.layers.concatenate([sentenceLayer, frameLayer],name=\"concatenated_layer\")"
      ]
    },
    {
      "cell_type": "code",
      "execution_count": null,
      "metadata": {
        "id": "nTapFmThrbOH"
      },
      "outputs": [],
      "source": [
        "output_layer = tf.keras.layers.Dense(2, activation = \"softmax\", name = \"output_layer\")(concat)"
      ]
    },
    {
      "cell_type": "code",
      "execution_count": null,
      "metadata": {
        "id": "x_UDZIbsr072"
      },
      "outputs": [
        {
          "name": "stdout",
          "output_type": "stream",
          "text": [
            "Model: \"model\"\n",
            "__________________________________________________________________________________________________\n",
            " Layer (type)                   Output Shape         Param #     Connected to                     \n",
            "==================================================================================================\n",
            " framesInput (InputLayer)       [(None, 20, 64, 64,  0           []                               \n",
            "                                 3)]                                                              \n",
            "                                                                                                  \n",
            " time_distributed (TimeDistribu  (None, 20, 64, 64,   448        ['framesInput[0][0]']            \n",
            " ted)                           16)                                                               \n",
            "                                                                                                  \n",
            " time_distributed_1 (TimeDistri  (None, 20, 16, 16,   0          ['time_distributed[0][0]']       \n",
            " buted)                         16)                                                               \n",
            "                                                                                                  \n",
            " dropout (Dropout)              (None, 20, 16, 16,   0           ['time_distributed_1[0][0]']     \n",
            "                                16)                                                               \n",
            "                                                                                                  \n",
            " time_distributed_2 (TimeDistri  (None, 20, 16, 16,   4640       ['dropout[0][0]']                \n",
            " buted)                         32)                                                               \n",
            "                                                                                                  \n",
            " time_distributed_3 (TimeDistri  (None, 20, 4, 4, 32  0          ['time_distributed_2[0][0]']     \n",
            " buted)                         )                                                                 \n",
            "                                                                                                  \n",
            " dropout_1 (Dropout)            (None, 20, 4, 4, 32  0           ['time_distributed_3[0][0]']     \n",
            "                                )                                                                 \n",
            "                                                                                                  \n",
            " time_distributed_4 (TimeDistri  (None, 20, 4, 4, 64  18496      ['dropout_1[0][0]']              \n",
            " buted)                         )                                                                 \n",
            "                                                                                                  \n",
            " time_distributed_5 (TimeDistri  (None, 20, 2, 2, 64  0          ['time_distributed_4[0][0]']     \n",
            " buted)                         )                                                                 \n",
            "                                                                                                  \n",
            " sentenceInput (InputLayer)     [(None, None)]       0           []                               \n",
            "                                                                                                  \n",
            " maskInput (InputLayer)         [(None, None)]       0           []                               \n",
            "                                                                                                  \n",
            " dropout_2 (Dropout)            (None, 20, 2, 2, 64  0           ['time_distributed_5[0][0]']     \n",
            "                                )                                                                 \n",
            "                                                                                                  \n",
            " tfgpt2_model (TFGPT2Model)     TFBaseModelOutputWi  124440576   ['sentenceInput[0][0]',          \n",
            "                                thPastAndCrossAtten               'maskInput[0][0]']              \n",
            "                                tions(last_hidden_s                                               \n",
            "                                tate=(None, None, 7                                               \n",
            "                                68),                                                              \n",
            "                                 past_key_values=No                                               \n",
            "                                ne, hidden_states=N                                               \n",
            "                                one, attentions=Non                                               \n",
            "                                e, cross_attentions                                               \n",
            "                                =None)                                                            \n",
            "                                                                                                  \n",
            " time_distributed_6 (TimeDistri  (None, 20, 2, 2, 64  36928      ['dropout_2[0][0]']              \n",
            " buted)                         )                                                                 \n",
            "                                                                                                  \n",
            " tf.math.reduce_mean (TFOpLambd  (None, 768)         0           ['tfgpt2_model[0][0]']           \n",
            " a)                                                                                               \n",
            "                                                                                                  \n",
            " time_distributed_7 (TimeDistri  (None, 20, 1, 1, 64  0          ['time_distributed_6[0][0]']     \n",
            " buted)                         )                                                                 \n",
            "                                                                                                  \n",
            " dense_1 (Dense)                (None, 16)           12304       ['tf.math.reduce_mean[0][0]']    \n",
            "                                                                                                  \n",
            " time_distributed_8 (TimeDistri  (None, 20, 64)      0           ['time_distributed_7[0][0]']     \n",
            " buted)                                                                                           \n",
            "                                                                                                  \n",
            " dropout_40 (Dropout)           (None, 16)           0           ['dense_1[0][0]']                \n",
            "                                                                                                  \n",
            " lstm (LSTM)                    (None, 32)           12416       ['time_distributed_8[0][0]']     \n",
            "                                                                                                  \n",
            " dense_2 (Dense)                (None, 20)           340         ['dropout_40[0][0]']             \n",
            "                                                                                                  \n",
            " dense (Dense)                  (None, 20)           660         ['lstm[0][0]']                   \n",
            "                                                                                                  \n",
            " concatenated_layer (Concatenat  (None, 40)          0           ['dense_2[0][0]',                \n",
            " e)                                                               'dense[0][0]']                  \n",
            "                                                                                                  \n",
            " output_layer (Dense)           (None, 2)            82          ['concatenated_layer[0][0]']     \n",
            "                                                                                                  \n",
            "==================================================================================================\n",
            "Total params: 163,125,034\n",
            "Trainable params: 38,684,458\n",
            "Non-trainable params: 124,440,576\n",
            "__________________________________________________________________________________________________\n",
            "None\n"
          ]
        }
      ],
      "source": [
        "full_model = tf.keras.Model(inputs=[input, mask, frameInput], outputs=[output_layer])\n",
        "\n",
        "print(full_model.summary())"
      ]
    },
    {
      "cell_type": "code",
      "execution_count": null,
      "metadata": {
        "id": "5NAIFM9hz4ow"
      },
      "outputs": [
        {
          "name": "stdout",
          "output_type": "stream",
          "text": [
            "You must install pydot (`pip install pydot`) and install graphviz (see instructions at https://graphviz.gitlab.io/download/) for plot_model to work.\n"
          ]
        }
      ],
      "source": [
        "plot_model(full_model, to_file = 'model_structure_plot.png', show_shapes = True, show_layer_names = True)"
      ]
    },
    {
      "cell_type": "code",
      "execution_count": null,
      "metadata": {
        "id": "wgcdd3R30PPu"
      },
      "outputs": [],
      "source": [
        "base_learning_rate = 0.0005\n",
        "optimizer=tf.keras.optimizers.Adam(learning_rate=base_learning_rate)\n",
        "#loss=tf.keras.losses.BinaryCrossentropy()\n",
        "loss=tf.keras.losses.SparseCategoricalCrossentropy()\n",
        "\n",
        "full_model.compile(optimizer=optimizer, loss=loss, metrics=['accuracy'])"
      ]
    },
    {
      "cell_type": "code",
      "execution_count": null,
      "metadata": {
        "id": "Y7XhYyU10Uts"
      },
      "outputs": [],
      "source": [
        "callbacks = tf.keras.callbacks.EarlyStopping(monitor=\"val_loss\", verbose=1, patience=15, mode = 'min', restore_best_weights=True)"
      ]
    },
    {
      "cell_type": "code",
      "execution_count": null,
      "metadata": {
        "id": "wulfd9C-11vl"
      },
      "outputs": [
        {
          "name": "stdout",
          "output_type": "stream",
          "text": [
            "WARNING:tensorflow:From C:\\Users\\106119049\\AppData\\Local\\Temp\\ipykernel_25412\\2874510872.py:1: experimental_run_functions_eagerly (from tensorflow.python.eager.polymorphic_function.quarantine) is deprecated and will be removed in a future version.\n",
            "Instructions for updating:\n",
            "Use `tf.config.run_functions_eagerly` instead of the experimental version.\n"
          ]
        }
      ],
      "source": [
        "tf.config.experimental_run_functions_eagerly(True)"
      ]
    },
    {
      "cell_type": "code",
      "execution_count": null,
      "metadata": {
        "id": "BPEmmX0L0a_k"
      },
      "outputs": [
        {
          "name": "stdout",
          "output_type": "stream",
          "text": [
            "Epoch 1/70\n"
          ]
        },
        {
          "name": "stderr",
          "output_type": "stream",
          "text": [
            "C:\\Users\\106119049\\AppData\\Roaming\\Python\\Python39\\site-packages\\tensorflow\\python\\data\\ops\\structured_function.py:254: UserWarning: Even though the `tf.config.experimental_run_functions_eagerly` option is set, this option does not apply to tf.data functions. To force eager execution of tf.data functions, please use `tf.data.experimental.enable_debug_mode()`.\n",
            "  warnings.warn(\n"
          ]
        },
        {
          "name": "stdout",
          "output_type": "stream",
          "text": [
            "138/138 [==============================] - 458s 3s/step - loss: 0.6948 - accuracy: 0.5207 - val_loss: 0.6749 - val_accuracy: 0.5478\n",
            "Epoch 2/70\n",
            "138/138 [==============================] - 456s 3s/step - loss: 0.6255 - accuracy: 0.6986 - val_loss: 0.5734 - val_accuracy: 0.7913\n",
            "Epoch 3/70\n",
            "138/138 [==============================] - 461s 3s/step - loss: 0.5494 - accuracy: 0.7836 - val_loss: 0.5222 - val_accuracy: 0.8029\n",
            "Epoch 4/70\n",
            "138/138 [==============================] - 472s 3s/step - loss: 0.5065 - accuracy: 0.8119 - val_loss: 0.5074 - val_accuracy: 0.7942\n",
            "Epoch 5/70\n",
            "138/138 [==============================] - 460s 3s/step - loss: 0.4771 - accuracy: 0.8235 - val_loss: 0.4829 - val_accuracy: 0.8174\n",
            "Epoch 6/70\n",
            "138/138 [==============================] - 465s 3s/step - loss: 0.4457 - accuracy: 0.8344 - val_loss: 0.4392 - val_accuracy: 0.8348\n",
            "Epoch 7/70\n",
            " 44/138 [========>.....................] - ETA: 4:52 - loss: 0.4006 - accuracy: 0.8705"
          ]
        }
      ],
      "source": [
        "history = full_model.fit([sentence_train_in, sentence_train_mask, framesTrain], labelsTrain, epochs=70, batch_size=10, validation_split=0.2, callbacks=callbacks)"
      ]
    },
    {
      "cell_type": "code",
      "execution_count": null,
      "metadata": {
        "id": "jmb573a21y_u"
      },
      "outputs": [],
      "source": [
        "full_model.evaluate([sentence_test_in, sentence_test_mask, framesTest], labelsTest)"
      ]
    },
    {
      "cell_type": "code",
      "execution_count": null,
      "metadata": {
        "id": "n6C3ZojW2zh9"
      },
      "outputs": [],
      "source": [
        "full_model.training = False\n",
        "label_pred = full_model.predict([sentence_test_in, sentence_test_mask, framesTest])"
      ]
    },
    {
      "cell_type": "code",
      "execution_count": null,
      "metadata": {
        "id": "-jbIXV4A3FmF"
      },
      "outputs": [],
      "source": [
        "label_pred_out = tf.math.argmax(label_pred, axis=-1)\n",
        "labels_prediction=np.array(label_pred_out)"
      ]
    },
    {
      "cell_type": "code",
      "execution_count": null,
      "metadata": {
        "id": "V9eWRiIn7CR4"
      },
      "outputs": [],
      "source": [
        "for l in labels_prediction:\n",
        "    print(l,end=\" \")\n",
        "    \n",
        "print()\n",
        "for l in labels_test:\n",
        "    print(l,end=\" \")"
      ]
    }
  ],
  "metadata": {
    "accelerator": "GPU",
    "colab": {
      "gpuType": "T4",
      "provenance": []
    },
    "gpuClass": "standard",
    "kernelspec": {
      "display_name": "Python 3",
      "name": "python3"
    },
    "language_info": {
      "codemirror_mode": {
        "name": "ipython",
        "version": 3
      },
      "file_extension": ".py",
      "mimetype": "text/x-python",
      "name": "python",
      "nbconvert_exporter": "python",
      "pygments_lexer": "ipython3",
      "version": "3.9.2"
    }
  },
  "nbformat": 4,
  "nbformat_minor": 0
}
